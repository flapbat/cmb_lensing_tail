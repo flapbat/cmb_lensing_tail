{
 "cells": [
  {
   "cell_type": "markdown",
   "id": "1db0cef6-d074-41f5-b843-e93e94f69103",
   "metadata": {},
   "source": [
    "#### this notebook is for using scipy curve\\_fit to tweak parameters in a known form - specifically for variations in $\\Omega_mh^2$"
   ]
  },
  {
   "cell_type": "code",
   "execution_count": 1,
   "id": "3b60eff0",
   "metadata": {},
   "outputs": [],
   "source": [
    "#from pysr import PySRRegressor, TemplateExpressionSpec\n",
    "\n",
    "import matplotlib.pyplot as plt\n",
    "import numpy as np\n",
    "\n",
    "import camb\n",
    "\n",
    "from scipy.optimize import curve_fit"
   ]
  },
  {
   "cell_type": "code",
   "execution_count": 2,
   "id": "a173e141",
   "metadata": {},
   "outputs": [],
   "source": [
    "# Load Data\n",
    "pars     = np.load('../CL_data/parameter_omb2.npy')  # [H0, ombh2, omch2 ] x 100\n",
    "lensed   = np.load('../CL_data/lensed_omb2.npy')     # [C_2, ..., C_5000] x 100 (lensed)\n",
    "unlensed = np.load('../CL_data/unlensed_omb2.npy')     # [C_2, ..., C_5000] x 100 (unlensed)"
   ]
  },
  {
   "cell_type": "code",
   "execution_count": 3,
   "id": "c0377bf7-daaa-4eac-88eb-801165d89fd9",
   "metadata": {},
   "outputs": [
    {
     "data": {
      "text/plain": [
       "0.0011381972683274604"
      ]
     },
     "execution_count": 3,
     "metadata": {},
     "output_type": "execute_result"
    }
   ],
   "source": [
    "np.min(pars[:,1])"
   ]
  },
  {
   "cell_type": "code",
   "execution_count": 4,
   "id": "e8c7a351",
   "metadata": {},
   "outputs": [],
   "source": [
    "#extracting info for independent variables\n",
    "ombs = pars[:,1]\n",
    "omcs = pars[:,2]\n",
    "\n",
    "ells = np.array([l for l in range(2, 5000)])"
   ]
  },
  {
   "cell_type": "code",
   "execution_count": 5,
   "id": "bca73323-d980-4553-91c3-ab46e53b1cc1",
   "metadata": {},
   "outputs": [],
   "source": [
    "#getting dependent variables\n",
    "lensing = lensed/unlensed #lensing tail\n",
    "camb_data_format = []\n",
    "for i in range(len(lensing)):\n",
    "    for j in range(len(lensing[i])):\n",
    "        camb_data_format.append(lensing[i][j])"
   ]
  },
  {
   "cell_type": "code",
   "execution_count": 6,
   "id": "5af6c06a",
   "metadata": {},
   "outputs": [],
   "source": [
    "#the fidicual values for normalizing variables\n",
    "fid_ombh2 = 0.0224\n",
    "fid_omch2 = 0.12"
   ]
  },
  {
   "cell_type": "code",
   "execution_count": 82,
   "id": "9faef75a",
   "metadata": {},
   "outputs": [],
   "source": [
    "def func(X, b1, b2):\n",
    "    #expected form of the lensing tail function for curve fitting\n",
    "    ell = X[0]\n",
    "    ommh2 = X[1]\n",
    "    ombh2 = X[2]\n",
    "    lit_x = (ommh2/0.1424) - 1\n",
    "    lit_x1 = ombh2 / 0.0224 - 1\n",
    "    beta1 = 0.68384242 * (1 + -0.14316  * lit_x + 0.21621 * lit_x**2 + 0.3929 * lit_x1 + 0.7842  * lit_x1**2)\n",
    "    beta2 = 2803.15618668 * (1 + -0.19253353 * lit_x + 0.33984113* lit_x**2 + 0.3172 * lit_x1 + 0.3779 * lit_x1**2)\n",
    "    \n",
    "    beta3 =  3752.09810747 * (1 + -0.49117375 * lit_x + 0.36373932 * lit_x**2 + 0.4018   * lit_x1 + -0.2122 * lit_x1**2 )\n",
    "    beta4 = 407.00901192 * ( 1 + -0.879074 * lit_x + -0.31323716 * lit_x**2 + 1.0367 * lit_x1 + 0.9222  * lit_x1**2)\n",
    "    alpha = 2.58674574 *(1+ 0.77024529 * lit_x + 0.3882 * lit_x**2 + -1.1773 * lit_x1 + 0.2763   * lit_x1**2 )\n",
    "    sigma = (1 + np.exp(-(ell - beta3)/beta4))**-1\n",
    "    poly = (beta1 * (ell/beta2)**alpha -1)\n",
    "    \n",
    "    return (poly*sigma + 1).flatten() "
   ]
  },
  {
   "cell_type": "code",
   "execution_count": 83,
   "id": "544a3663",
   "metadata": {},
   "outputs": [],
   "source": [
    "cosmos = [ombs[i] + omcs[i] for i in range(len(ombs))]    #x3 variable\n",
    "n = len(cosmos) #number of cosmologies\n",
    "params = np.zeros((len(ells) * n, 3))   #ind variables\n",
    "for i in range(n):\n",
    "    params[(i)*len(ells):(i+1)*len(ells),0] = ells\n",
    "for i in range(n):\n",
    "    params[(i)*len(ells):(i+1)*len(ells),1] = cosmos[i]  #ommh2\n",
    "for i in range(n):\n",
    "    params[(i)*len(ells):(i+1)*len(ells),2] = ombs[i]  #ombh2"
   ]
  },
  {
   "cell_type": "code",
   "execution_count": 84,
   "id": "46d2eb78",
   "metadata": {},
   "outputs": [],
   "source": [
    "#p0 = 0 #initial values"
   ]
  },
  {
   "cell_type": "code",
   "execution_count": 85,
   "id": "a49554cc",
   "metadata": {},
   "outputs": [],
   "source": [
    "x1 = params[:,0]\n",
    "x2 = params[:,1]\n",
    "x3 = params[:,2]"
   ]
  },
  {
   "cell_type": "code",
   "execution_count": 86,
   "id": "db773610",
   "metadata": {},
   "outputs": [
    {
     "name": "stderr",
     "output_type": "stream",
     "text": [
      "/tmp/ipykernel_16043/2663249349.py:14: RuntimeWarning: overflow encountered in exp\n",
      "  sigma = (1 + np.exp(-(ell - beta3)/beta4))**-1\n",
      "/tmp/ipykernel_16043/392189638.py:1: OptimizeWarning: Covariance of the parameters could not be estimated\n",
      "  answers, _ = curve_fit(func,(x1, x2, x3),camb_data_format)  #doing the curve fitting\n"
     ]
    }
   ],
   "source": [
    "answers, _ = curve_fit(func,(x1, x2, x3),camb_data_format)  #doing the curve fitting"
   ]
  },
  {
   "cell_type": "code",
   "execution_count": 81,
   "id": "67fd5548",
   "metadata": {},
   "outputs": [
    {
     "data": {
      "text/plain": [
       "array([-1.17729283,  0.27630538])"
      ]
     },
     "execution_count": 81,
     "metadata": {},
     "output_type": "execute_result"
    }
   ],
   "source": [
    "answers"
   ]
  },
  {
   "cell_type": "code",
   "execution_count": null,
   "id": "8ff9449f",
   "metadata": {},
   "outputs": [],
   "source": []
  },
  {
   "cell_type": "code",
   "execution_count": 50,
   "id": "7318135c-4889-4d65-8c12-d0b24401c142",
   "metadata": {},
   "outputs": [
    {
     "data": {
      "text/plain": [
       "<matplotlib.collections.PathCollection at 0x75efd83e1fa0>"
      ]
     },
     "execution_count": 50,
     "metadata": {},
     "output_type": "execute_result"
    },
    {
     "data": {
      "image/png": "[encoded data removed]",
      "text/plain": [
       "<Figure size 640x480 with 1 Axes>"
      ]
     },
     "metadata": {},
     "output_type": "display_data"
    }
   ],
   "source": [
    "ells = np.array([l for l in range(2, 5000)])\n",
    "om = fid_ombh2 + fid_omch2\n",
    "oms = np.ones(np.shape(ells)) * om\n",
    "plt.scatter(ells, func((ells, oms), 1))"
   ]
  },
  {
   "cell_type": "code",
   "execution_count": null,
   "id": "69d67936-8ee7-4da4-86a8-85a142168709",
   "metadata": {},
   "outputs": [],
   "source": []
  },
  {
   "cell_type": "code",
   "execution_count": null,
   "id": "94f4fe45-86c3-4635-af74-d0b8e592790f",
   "metadata": {},
   "outputs": [],
   "source": []
  }
 ],
 "metadata": {
  "kernelspec": {
   "display_name": "Python 3 (ipykernel)",
   "language": "python",
   "name": "python3"
  },
  "language_info": {
   "codemirror_mode": {
    "name": "ipython",
    "version": 3
   },
   "file_extension": ".py",
   "mimetype": "text/x-python",
   "name": "python",
   "nbconvert_exporter": "python",
   "pygments_lexer": "ipython3",
   "version": "3.12.7"
  }
 },
 "nbformat": 4,
 "nbformat_minor": 5
}
