{
 "cells": [
  {
   "cell_type": "markdown",
   "id": "f987685a-95c5-4b72-829d-b110b8f074e5",
   "metadata": {},
   "source": [
    "#### this notebook is for using scipy curve\\_fit to tweak parameters in a known form - specifically for variations in $A_s$"
   ]
  },
  {
   "cell_type": "code",
   "execution_count": 1,
   "id": "76ef6871-b0b1-4c15-bbb4-e755e2b46b05",
   "metadata": {},
   "outputs": [],
   "source": [
    "import matplotlib.pyplot as plt\n",
    "import numpy as np\n",
    "\n",
    "from scipy.optimize import curve_fit"
   ]
  },
  {
   "cell_type": "code",
   "execution_count": 2,
   "id": "7ba19f8e-0fe9-49c3-ae37-d5c987cb26bb",
   "metadata": {},
   "outputs": [],
   "source": [
    "# Load Data\n",
    "pars     = np.load('../CL_data/parameter_as3.npy')  # [H0, ombh2, omch2 ] x 100\n",
    "lensed   = np.load('../CL_data/lensed_as3.npy')     # [C_2, ..., C_5000] x 100 (lensed)\n",
    "unlensed = np.load('../CL_data/unlensed_as3.npy')     # [C_2, ..., C_5000] x 100 (unlensed)"
   ]
  },
  {
   "cell_type": "code",
   "execution_count": 3,
   "id": "cab0fddd-6f97-469d-b74b-c6d25bfcca4b",
   "metadata": {},
   "outputs": [
    {
     "data": {
      "text/plain": [
       "1.2002724903798974"
      ]
     },
     "execution_count": 3,
     "metadata": {},
     "output_type": "execute_result"
    }
   ],
   "source": [
    "np.min(pars[:,1])"
   ]
  },
  {
   "cell_type": "code",
   "execution_count": 4,
   "id": "dfbb176d-9189-4982-900b-df7d9bc1edcc",
   "metadata": {},
   "outputs": [],
   "source": [
    "cosmos = pars[:,1]\n",
    "ells = np.array([l for l in range(2, 5000)])"
   ]
  },
  {
   "cell_type": "code",
   "execution_count": 5,
   "id": "a7c7b7e6-c90f-4634-bdc6-8db9dd612cbb",
   "metadata": {},
   "outputs": [],
   "source": [
    "lensing = lensed/unlensed #lensing tail\n",
    "camb_data_format = []\n",
    "for i in range(len(lensing)):\n",
    "    for j in range(len(lensing[i])):\n",
    "        camb_data_format.append(lensing[i][j])"
   ]
  },
  {
   "cell_type": "code",
   "execution_count": 6,
   "id": "e69fd806-864d-4c65-aa36-b089d7717782",
   "metadata": {},
   "outputs": [],
   "source": [
    "def func(X, b1, b2):\n",
    "    #expected form of the lensing tail function for curve fitting\n",
    "    ell = X[0]\n",
    "    as_mag = X[1] / 3.043 - 1\n",
    "    beta1 = 0.6838 * (1 + 0.00295281 * as_mag + 0.07715963 * as_mag**2)\n",
    "    beta2 = 2803.1562 * (1 +0.01287662  * as_mag + -0.12985897 * as_mag**2)\n",
    "    beta3 =  3752.098 * (1 + -0.10173588 *as_mag + 0.19153116  * as_mag**2)\n",
    "    beta4 = 407.009 * (1 +  0.53069688 * as_mag + 0.14825538 * as_mag**2)\n",
    "    alpha = 2.5867 * ( 1 + 1.40881037  * as_mag + 0.7482106  * as_mag**2)\n",
    "    sigma = (1 + np.exp(-(ell - beta3)/beta4))**-1\n",
    "    poly = (beta1 * (ell/beta2)**alpha -1)\n",
    "    \n",
    "    return (poly*sigma + 1).flatten() "
   ]
  },
  {
   "cell_type": "code",
   "execution_count": 7,
   "id": "01900863-383b-4268-9510-d7a85b78aba2",
   "metadata": {},
   "outputs": [],
   "source": [
    "n = len(cosmos) #number of cosmologies\n",
    "params = np.zeros((len(ells) * n, 2))   #ind variables\n",
    "for i in range(n):\n",
    "    params[(i)*len(ells):(i+1)*len(ells),0] = ells\n",
    "for i in range(n):\n",
    "    params[(i)*len(ells):(i+1)*len(ells),1] = cosmos[i]  #ommh2"
   ]
  },
  {
   "cell_type": "code",
   "execution_count": 8,
   "id": "8f33eed2-e86e-444c-9f72-891f4c56d2d4",
   "metadata": {},
   "outputs": [
    {
     "name": "stderr",
     "output_type": "stream",
     "text": [
      "/tmp/ipykernel_19474/3226740531.py:1: OptimizeWarning: Covariance of the parameters could not be estimated\n",
      "  answers, _ = curve_fit(func,(params[:,0], params[:, 1]),camb_data_format)  #doing the curve fitting\n"
     ]
    }
   ],
   "source": [
    "answers, _ = curve_fit(func,(params[:,0], params[:, 1]),camb_data_format)  #doing the curve fitting"
   ]
  },
  {
   "cell_type": "code",
   "execution_count": 9,
   "id": "04fd75a7-18c4-49d4-a277-f115c6b19d32",
   "metadata": {},
   "outputs": [
    {
     "data": {
      "text/plain": [
       "array([1., 1.])"
      ]
     },
     "execution_count": 9,
     "metadata": {},
     "output_type": "execute_result"
    }
   ],
   "source": [
    "answers"
   ]
  },
  {
   "cell_type": "code",
   "execution_count": null,
   "id": "ec183c9e-602f-4403-9847-f10746bd2eaf",
   "metadata": {},
   "outputs": [],
   "source": []
  },
  {
   "cell_type": "code",
   "execution_count": null,
   "id": "7cd58497-d1a0-40d4-adaf-02436cb414f8",
   "metadata": {},
   "outputs": [],
   "source": []
  }
 ],
 "metadata": {
  "kernelspec": {
   "display_name": "Python 3 (ipykernel)",
   "language": "python",
   "name": "python3"
  },
  "language_info": {
   "codemirror_mode": {
    "name": "ipython",
    "version": 3
   },
   "file_extension": ".py",
   "mimetype": "text/x-python",
   "name": "python",
   "nbconvert_exporter": "python",
   "pygments_lexer": "ipython3",
   "version": "3.12.7"
  }
 },
 "nbformat": 4,
 "nbformat_minor": 5
}
