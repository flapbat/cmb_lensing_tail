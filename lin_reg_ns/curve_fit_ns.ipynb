{
 "cells": [
  {
   "cell_type": "code",
   "execution_count": 1,
   "id": "c8afbce2-353c-4268-baba-5d58e7c06a45",
   "metadata": {},
   "outputs": [],
   "source": [
    "import matplotlib.pyplot as plt\n",
    "import numpy as np\n",
    "\n",
    "from scipy.optimize import curve_fit"
   ]
  },
  {
   "cell_type": "code",
   "execution_count": 3,
   "id": "9ad695b7-9b5a-4327-b3eb-1e544a0a9ad1",
   "metadata": {},
   "outputs": [],
   "source": [
    "# Load Data\n",
    "pars     = np.load('../CL_data/parameter_ns1.npy')  # [H0, ombh2, omch2 ] x 100\n",
    "lensed   = np.load('../CL_data/lensed_ns1.npy')     # [C_2, ..., C_5000] x 100 (lensed)\n",
    "unlensed = np.load('../CL_data/unlensed_ns1.npy')     # [C_2, ..., C_5000] x 100 (unlensed)"
   ]
  },
  {
   "cell_type": "code",
   "execution_count": 5,
   "id": "7c7f458a-aec7-4bd7-b2d3-cdf795a1080d",
   "metadata": {},
   "outputs": [],
   "source": [
    "_ns = pars[:,1]\n",
    "ells = np.array([l for l in range(2, 5000)])"
   ]
  },
  {
   "cell_type": "code",
   "execution_count": 12,
   "id": "f9d950d0-4a7e-4e45-823a-5b0967b401f7",
   "metadata": {},
   "outputs": [
    {
     "data": {
      "text/plain": [
       "1.2997369546181923"
      ]
     },
     "execution_count": 12,
     "metadata": {},
     "output_type": "execute_result"
    }
   ],
   "source": [
    "np.max(_ns)"
   ]
  },
  {
   "cell_type": "code",
   "execution_count": 6,
   "id": "b68d1ac5-88c1-45ce-9bef-7996e347f8a3",
   "metadata": {},
   "outputs": [],
   "source": [
    "lensing = lensed/unlensed #lensing tail\n",
    "camb_data_format = []\n",
    "for i in range(len(lensing)):\n",
    "    for j in range(len(lensing[i])):\n",
    "        camb_data_format.append(lensing[i][j])"
   ]
  },
  {
   "cell_type": "code",
   "execution_count": 7,
   "id": "f99f7def-ec07-43bc-ad96-00219fadfa0d",
   "metadata": {},
   "outputs": [],
   "source": [
    "n = len(_ns) #number of cosmologies\n",
    "params = np.zeros((len(ells) * n, 2))   #ind variables\n",
    "for i in range(n):\n",
    "    params[(i)*len(ells):(i+1)*len(ells),0] = ells\n",
    "for i in range(n):\n",
    "    params[(i)*len(ells):(i+1)*len(ells),1] = _ns[i]  "
   ]
  },
  {
   "cell_type": "code",
   "execution_count": 28,
   "id": "2015aeb4-68c7-4750-b577-c86084e727ef",
   "metadata": {},
   "outputs": [],
   "source": [
    "def func(X, b1):\n",
    "    #expected form of the lensing tail function for curve fitting\n",
    "    ell = X[0]\n",
    "    x6 = X[1] / 0.965 - 1\n",
    "    beta1 = 0.6838\n",
    "    beta2 = 2803.1562 \n",
    "    beta3 =  3752.098 * ( 1 + -0.30258765 * x6)\n",
    "    beta4 = 407.009 * (1 + b1 * x6)\n",
    "    alpha = 2.5867 * (1 + 0.07185047 * x6)\n",
    "    sigma = (1 + np.exp(-(ell - beta3)/beta4))**-1\n",
    "    poly = (beta1 * (ell/beta2)**alpha -1)\n",
    "    \n",
    "    return (poly*sigma + 1).flatten() "
   ]
  },
  {
   "cell_type": "code",
   "execution_count": 29,
   "id": "ee530d47-d6e0-4234-a972-1ff2a3c44e0d",
   "metadata": {},
   "outputs": [],
   "source": [
    "answers, _ = curve_fit(func,(params[:,0], params[:, 1]),camb_data_format)  #doing the curve fitting"
   ]
  },
  {
   "cell_type": "code",
   "execution_count": 30,
   "id": "a01c0128-19be-45f4-aa56-3ba342bf1528",
   "metadata": {},
   "outputs": [
    {
     "data": {
      "text/plain": [
       "array([-1.076944])"
      ]
     },
     "execution_count": 30,
     "metadata": {},
     "output_type": "execute_result"
    }
   ],
   "source": [
    "answers"
   ]
  },
  {
   "cell_type": "code",
   "execution_count": null,
   "id": "dd158d61-7201-4e3b-9d55-e5ab7ce03afd",
   "metadata": {},
   "outputs": [],
   "source": []
  },
  {
   "cell_type": "code",
   "execution_count": null,
   "id": "dd91b721-7c36-4856-af47-345686219c6a",
   "metadata": {},
   "outputs": [],
   "source": []
  }
 ],
 "metadata": {
  "kernelspec": {
   "display_name": "Python 3 (ipykernel)",
   "language": "python",
   "name": "python3"
  },
  "language_info": {
   "codemirror_mode": {
    "name": "ipython",
    "version": 3
   },
   "file_extension": ".py",
   "mimetype": "text/x-python",
   "name": "python",
   "nbconvert_exporter": "python",
   "pygments_lexer": "ipython3",
   "version": "3.12.7"
  }
 },
 "nbformat": 4,
 "nbformat_minor": 5
}
