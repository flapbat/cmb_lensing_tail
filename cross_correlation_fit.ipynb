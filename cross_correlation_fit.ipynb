{
 "cells": [
  {
   "cell_type": "code",
   "execution_count": 1,
   "id": "9139ab72-4cc3-457f-89a4-3d340fb1e74f",
   "metadata": {},
   "outputs": [],
   "source": [
    "import matplotlib.pyplot as plt\n",
    "import numpy as np\n",
    "\n",
    "import camb\n",
    "\n",
    "from scipy.optimize import curve_fit"
   ]
  },
  {
   "cell_type": "code",
   "execution_count": 3,
   "id": "5049f441-c72e-4562-a324-e67135c823fb",
   "metadata": {},
   "outputs": [],
   "source": [
    "# Load Data\n",
    "pars     = np.load('CL_data/parameter_cross1.npy')  # [H0, ombh2, omch2 ] x 100\n",
    "lensed   = np.load('CL_data/lensed_cross1.npy')     # [C_2, ..., C_5000] x 100 (lensed)\n",
    "unlensed = np.load('CL_data/unlensed_cross1.npy')     # [C_2, ..., C_5000] x 100 (unlensed)"
   ]
  },
  {
   "cell_type": "code",
   "execution_count": 8,
   "id": "1c7b3c23-0610-4d83-9311-4ba0cb727373",
   "metadata": {},
   "outputs": [],
   "source": [
    "omcs = pars[:,1]\n",
    "As = pars[:,2]\n",
    "ombs = np.ones(np.shape(omcs)) * 0.0224\n",
    "\n",
    "ells = np.array([l for l in range(2, 5000)])"
   ]
  },
  {
   "cell_type": "code",
   "execution_count": 15,
   "id": "91309b0f-4e75-45c3-81f5-f57bfecce6d0",
   "metadata": {},
   "outputs": [],
   "source": [
    "#getting dependent variables\n",
    "lensing = lensed/unlensed #lensing tail\n",
    "camb_data_format = []\n",
    "for i in range(len(lensing)):\n",
    "    for j in range(len(lensing[i])):\n",
    "        camb_data_format.append(lensing[i][j])"
   ]
  },
  {
   "cell_type": "code",
   "execution_count": 9,
   "id": "ab629af2-61e0-4541-8ba2-86396f774207",
   "metadata": {},
   "outputs": [],
   "source": [
    "fid_ombh2 = 0.0224\n",
    "fid_omch2 = 0.12"
   ]
  },
  {
   "cell_type": "code",
   "execution_count": 34,
   "id": "d0830b70-ff83-43ad-96ac-3a9fa1b8bc42",
   "metadata": {},
   "outputs": [],
   "source": [
    "def func(X, b1):\n",
    "    #expected form of the lensing tail function for curve fitting\n",
    "    ell = X[0]\n",
    "    ommh2 = (X[1]/0.1424) - 1\n",
    "    ombh2 = X[2]/ 0.0224 - 1\n",
    "    As = X[3] / 3.043 - 1\n",
    "\n",
    "    beta_1 = 0.6838 * (1 + -0.14316  * ommh2  + 0.21621 * ommh2**2 + -0.04256699 * ombh2 + 0.00295 * As + 0.0772 * As**2 + b1 * ommh2 * As) \n",
    "    beta_2 = 2803.1562 * (1 + -0.1925  * ommh2 + 0.33984  * ommh2**2 + 0.01274244 * ombh2 + 0.00465607 * ombh2**2 +0.01288  * As + -0.1299 * As**2) \n",
    "    \n",
    "    beta_3 = 3752.098 * (1 + -0.49117 * ommh2 + 0.3637 * ommh2**2 + 0.4959597  * ombh2 + 0.25204221 * ombh2**2 + -0.1017 * As + 0.1915  * As**2)\n",
    "    beta_4 = 407.009 * (1 + -0.879 * ommh2 + -0.3132 *ommh2**2 + 0.39838899 * ombh2 + -0.69752433 * ombh2**2 + 0.5307 * As + 0.1483 * As**2 ) \n",
    "    alpha = 2.5867 *(1 + 0.7702 * ommh2 + 0.3882 * ommh2 **2  + -0.98242872 * ombh2 + 1.15253038 * ombh2**2 + 1.4088  * As + 0.7482    * As**2 )\n",
    "        \n",
    "    sigm = (1 + np.exp(-(ell-beta_3)/beta_4))**(-1)\n",
    "\n",
    "    poly = (beta_1*(ell/beta_2)**alpha - 1)\n",
    "    \n",
    "    L = poly*sigm + 1\n",
    "    \n",
    "    return L"
   ]
  },
  {
   "cell_type": "code",
   "execution_count": 35,
   "id": "ac4b6fc4-6160-421a-a2ce-0d34f2b70d08",
   "metadata": {},
   "outputs": [],
   "source": [
    "cosmos = [ombs[i] + omcs[i] for i in range(len(ombs))]    #x3 variable\n",
    "n = len(cosmos) #number of cosmologies\n",
    "params = np.zeros((len(ells) * n, 4))   #ind variables\n",
    "for i in range(n):\n",
    "    params[(i)*len(ells):(i+1)*len(ells),0] = ells\n",
    "for i in range(n):\n",
    "    params[(i)*len(ells):(i+1)*len(ells),1] = cosmos[i]  #ommh2\n",
    "for i in range(n):\n",
    "    params[(i)*len(ells):(i+1)*len(ells),2] = ombs[i]  #ombh2\n",
    "for i in range(n):\n",
    "    params[(i) * len(ells): (i+1)*len(ells),3] = As[i]"
   ]
  },
  {
   "cell_type": "code",
   "execution_count": 36,
   "id": "7fb6b606-a9aa-4103-aa1d-55021001b17d",
   "metadata": {},
   "outputs": [],
   "source": [
    "x1 = params[:,0]\n",
    "x2 = params[:,1]\n",
    "x3 = params[:,2]\n",
    "x4 = params[:,3]"
   ]
  },
  {
   "cell_type": "code",
   "execution_count": 37,
   "id": "c17af331-8446-44c7-9c1e-973c6922e5f2",
   "metadata": {},
   "outputs": [],
   "source": [
    "answers, _ = curve_fit(func,(x1, x2, x3, x4),camb_data_format)  #doing the curve fitting"
   ]
  },
  {
   "cell_type": "code",
   "execution_count": 38,
   "id": "94a27b9b-16a8-4c40-9360-298309f7bea2",
   "metadata": {},
   "outputs": [
    {
     "data": {
      "text/plain": [
       "array([-2.75811397])"
      ]
     },
     "execution_count": 38,
     "metadata": {},
     "output_type": "execute_result"
    }
   ],
   "source": [
    "answers"
   ]
  },
  {
   "cell_type": "code",
   "execution_count": null,
   "id": "17721988-625b-4953-90ec-64f2fafa892c",
   "metadata": {},
   "outputs": [],
   "source": []
  }
 ],
 "metadata": {
  "kernelspec": {
   "display_name": "Python 3 (ipykernel)",
   "language": "python",
   "name": "python3"
  },
  "language_info": {
   "codemirror_mode": {
    "name": "ipython",
    "version": 3
   },
   "file_extension": ".py",
   "mimetype": "text/x-python",
   "name": "python",
   "nbconvert_exporter": "python",
   "pygments_lexer": "ipython3",
   "version": "3.12.7"
  }
 },
 "nbformat": 4,
 "nbformat_minor": 5
}
