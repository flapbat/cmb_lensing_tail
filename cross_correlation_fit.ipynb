{
 "cells": [
  {
   "cell_type": "code",
   "execution_count": 51,
   "id": "9139ab72-4cc3-457f-89a4-3d340fb1e74f",
   "metadata": {},
   "outputs": [],
   "source": [
    "import matplotlib.pyplot as plt\n",
    "import numpy as np\n",
    "\n",
    "import camb\n",
    "\n",
    "from scipy.optimize import curve_fit"
   ]
  },
  {
   "cell_type": "code",
   "execution_count": 110,
   "id": "5049f441-c72e-4562-a324-e67135c823fb",
   "metadata": {},
   "outputs": [],
   "source": [
    "# Load Data\n",
    "pars     = np.load('CL_data/parameter_ombh_cross2.npy')  # [H0, ombh2, omch2 ] x 100\n",
    "lensed   = np.load('CL_data/lensed_ombh_cross2.npy')     # [C_2, ..., C_5000] x 100 (lensed)\n",
    "unlensed = np.load('CL_data/unlensed_ombh_cross2.npy')     # [C_2, ..., C_5000] x 100 (unlensed)"
   ]
  },
  {
   "cell_type": "code",
   "execution_count": 111,
   "id": "1c7b3c23-0610-4d83-9311-4ba0cb727373",
   "metadata": {},
   "outputs": [],
   "source": [
    "omcs = pars[:,1]\n",
    "As = pars[:,3]\n",
    "ombs = pars[:,2]\n",
    "\n",
    "ells = np.array([l for l in range(2, 5000)])"
   ]
  },
  {
   "cell_type": "code",
   "execution_count": 112,
   "id": "91309b0f-4e75-45c3-81f5-f57bfecce6d0",
   "metadata": {},
   "outputs": [],
   "source": [
    "#getting dependent variables\n",
    "lensing = lensed/unlensed #lensing tail\n",
    "camb_data_format = []\n",
    "for i in range(len(lensing)):\n",
    "    for j in range(len(lensing[i])):\n",
    "        camb_data_format.append(lensing[i][j])"
   ]
  },
  {
   "cell_type": "code",
   "execution_count": 113,
   "id": "ab629af2-61e0-4541-8ba2-86396f774207",
   "metadata": {},
   "outputs": [],
   "source": [
    "fid_ombh2 = 0.0224\n",
    "fid_omch2 = 0.12"
   ]
  },
  {
   "cell_type": "code",
   "execution_count": 127,
   "id": "d0830b70-ff83-43ad-96ac-3a9fa1b8bc42",
   "metadata": {},
   "outputs": [],
   "source": [
    "def func(X, b1):\n",
    "    #expected form of the lensing tail function for curve fitting\n",
    "    ell = X[0]\n",
    "    x2 = (X[1]/0.12) - 1\n",
    "    x1 = X[2]/ 0.0224 - 1\n",
    "    x5 = X[3] / 3.043 - 1\n",
    "        \n",
    "    beta_1 =  0.6838  * (1 + 0.6785287  * x1 + 5.14232428 * x1 **2 +-0.0394 * x2 + 1.15286268 * x1 * x2 + 0.00295 * x5 + 0.0772 * x5**2 + 0.02446665 * x2 * x5)\n",
    "    beta_2 = 2803.1562 * (1 + -0.20201989 * x1 + -0.1305 * x2 + -0.03669247 * x1 ** 2 + 0.1632 * x2 **2 + 0.01520631 * x1 * x2 +0.01288  * x5 + -0.1299 * x5**2 + -0.02780125 * x2 * x5)\n",
    "    \n",
    "    beta_3 = 3752.098 * (1 + 0.76363938 * x1 + -0.4728 * x2  + 0.3576 * x2**2  + 0.54528086 * x1**2 + 1 * x1 * x2 + -0.1017 * x5 + 0.1915  * x5**2 + 1.19211136 * x2 * x5 + -1.26835811 * x1 * x5)\n",
    "    beta_4 = 407.009 * (1 + 1.47840849 * x1 + 0.22685781 * x1 **2 + -0.066 * x2 + -0.1976 *x2**2 + 1.0051622 * x1 * x2 + 0.5307 * x5 + 0.1483 * x5**2 + 1.016768 * x2 * x5 + 1.06461251 * x1 * x5)\n",
    "    alpha = 2.5867 *(1 + -1.18769837 * x1 + 0.700  * x2 +0.27838511 * x1 **2  + 0.2064 * x2 **2 + -0.97586643 * x1 * x2 + 1.4088  * x5 + 0.7482    * x5**2 + 1.00601945 * x5 * x2 + -1.22167607 * x1 * x5)\n",
    "        \n",
    "    sigm = (1 + np.exp(-(ell-beta_3)/beta_4))**(-1)\n",
    "\n",
    "    poly = (beta_1*(ell/beta_2)**alpha - 1)\n",
    "    \n",
    "    L = poly*sigm + 1\n",
    "    \n",
    "    return L"
   ]
  },
  {
   "cell_type": "code",
   "execution_count": 128,
   "id": "ac4b6fc4-6160-421a-a2ce-0d34f2b70d08",
   "metadata": {},
   "outputs": [],
   "source": [
    "cosmos = [ombs[i] + omcs[i] for i in range(len(ombs))]    #x3 variable\n",
    "n = len(cosmos) #number of cosmologies\n",
    "params = np.zeros((len(ells) * n, 4))   #ind variables\n",
    "for i in range(n):\n",
    "    params[(i)*len(ells):(i+1)*len(ells),0] = ells\n",
    "for i in range(n):\n",
    "    params[(i)*len(ells):(i+1)*len(ells),1] = omcs[i]  #omch2\n",
    "for i in range(n):\n",
    "    params[(i)*len(ells):(i+1)*len(ells),2] = ombs[i]  #ombh2\n",
    "for i in range(n):\n",
    "    params[(i) * len(ells): (i+1)*len(ells),3] = As[i]"
   ]
  },
  {
   "cell_type": "code",
   "execution_count": 129,
   "id": "c17af331-8446-44c7-9c1e-973c6922e5f2",
   "metadata": {},
   "outputs": [
    {
     "name": "stderr",
     "output_type": "stream",
     "text": [
      "/tmp/ipykernel_3609/3697458515.py:15: RuntimeWarning: overflow encountered in exp\n",
      "  sigm = (1 + np.exp(-(ell-beta_3)/beta_4))**(-1)\n"
     ]
    }
   ],
   "source": [
    "answers, _ = curve_fit(func,(params[:,0], params[:,1], params[:,2], params[:,3]),camb_data_format)  #doing the curve fitting"
   ]
  },
  {
   "cell_type": "code",
   "execution_count": 130,
   "id": "94a27b9b-16a8-4c40-9360-298309f7bea2",
   "metadata": {},
   "outputs": [
    {
     "data": {
      "text/plain": [
       "array([1.06461251])"
      ]
     },
     "execution_count": 130,
     "metadata": {},
     "output_type": "execute_result"
    }
   ],
   "source": [
    "answers"
   ]
  },
  {
   "cell_type": "code",
   "execution_count": null,
   "id": "17721988-625b-4953-90ec-64f2fafa892c",
   "metadata": {},
   "outputs": [],
   "source": []
  },
  {
   "cell_type": "code",
   "execution_count": null,
   "id": "80009b45-ef83-4fe8-b117-ed91af9ac9d8",
   "metadata": {},
   "outputs": [],
   "source": []
  },
  {
   "cell_type": "code",
   "execution_count": null,
   "id": "262c657a-e373-4337-b09b-6925f7d43ca6",
   "metadata": {},
   "outputs": [],
   "source": []
  }
 ],
 "metadata": {
  "kernelspec": {
   "display_name": "Python 3 (ipykernel)",
   "language": "python",
   "name": "python3"
  },
  "language_info": {
   "codemirror_mode": {
    "name": "ipython",
    "version": 3
   },
   "file_extension": ".py",
   "mimetype": "text/x-python",
   "name": "python",
   "nbconvert_exporter": "python",
   "pygments_lexer": "ipython3",
   "version": "3.12.7"
  }
 },
 "nbformat": 4,
 "nbformat_minor": 5
}
