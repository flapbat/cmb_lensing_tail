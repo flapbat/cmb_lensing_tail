{
 "cells": [
  {
   "cell_type": "code",
   "execution_count": 1,
   "id": "65bbb247",
   "metadata": {},
   "outputs": [],
   "source": [
    "import numpy as np\n",
    "import matplotlib.pyplot as plt"
   ]
  },
  {
   "cell_type": "code",
   "execution_count": 2,
   "id": "aab67345",
   "metadata": {},
   "outputs": [
    {
     "ename": "FileNotFoundError",
     "evalue": "[Errno 2] No such file or directory: 'cos_uniform_cut_data/cos_uniform_cut_0.npy'",
     "output_type": "error",
     "traceback": [
      "\u001b[0;31m---------------------------------------------------------------------------\u001b[0m",
      "\u001b[0;31mFileNotFoundError\u001b[0m                         Traceback (most recent call last)",
      "Cell \u001b[0;32mIn[2], line 1\u001b[0m\n\u001b[0;32m----> 1\u001b[0m params \u001b[38;5;241m=\u001b[39m \u001b[43mnp\u001b[49m\u001b[38;5;241;43m.\u001b[39;49m\u001b[43mload\u001b[49m\u001b[43m(\u001b[49m\u001b[38;5;124;43m\"\u001b[39;49m\u001b[38;5;124;43mcos_uniform_cut_data/cos_uniform_cut_0.npy\u001b[39;49m\u001b[38;5;124;43m\"\u001b[39;49m\u001b[43m)\u001b[49m[:, \u001b[38;5;241m0\u001b[39m:\u001b[38;5;241m3\u001b[39m]\n\u001b[1;32m      2\u001b[0m lensed \u001b[38;5;241m=\u001b[39m np\u001b[38;5;241m.\u001b[39mload(\u001b[38;5;124m\"\u001b[39m\u001b[38;5;124mcos_uniform_cut_data/cos_uniform_cut_0_output.npy\u001b[39m\u001b[38;5;124m\"\u001b[39m)[:, \u001b[38;5;241m2\u001b[39m:\u001b[38;5;241m5000\u001b[39m, \u001b[38;5;241m0\u001b[39m]\n\u001b[1;32m      3\u001b[0m unlensed \u001b[38;5;241m=\u001b[39m np\u001b[38;5;241m.\u001b[39mload(\u001b[38;5;124m\"\u001b[39m\u001b[38;5;124mcos_uniform_cut_data/cos_uniform_cut_0_unlensed_output.npy\u001b[39m\u001b[38;5;124m\"\u001b[39m)[:, :, \u001b[38;5;241m0\u001b[39m]\n",
      "File \u001b[0;32m~/miniconda/envs/megan/lib/python3.9/site-packages/numpy/lib/_npyio_impl.py:455\u001b[0m, in \u001b[0;36mload\u001b[0;34m(file, mmap_mode, allow_pickle, fix_imports, encoding, max_header_size)\u001b[0m\n\u001b[1;32m    453\u001b[0m     own_fid \u001b[38;5;241m=\u001b[39m \u001b[38;5;28;01mFalse\u001b[39;00m\n\u001b[1;32m    454\u001b[0m \u001b[38;5;28;01melse\u001b[39;00m:\n\u001b[0;32m--> 455\u001b[0m     fid \u001b[38;5;241m=\u001b[39m stack\u001b[38;5;241m.\u001b[39menter_context(\u001b[38;5;28;43mopen\u001b[39;49m\u001b[43m(\u001b[49m\u001b[43mos\u001b[49m\u001b[38;5;241;43m.\u001b[39;49m\u001b[43mfspath\u001b[49m\u001b[43m(\u001b[49m\u001b[43mfile\u001b[49m\u001b[43m)\u001b[49m\u001b[43m,\u001b[49m\u001b[43m \u001b[49m\u001b[38;5;124;43m\"\u001b[39;49m\u001b[38;5;124;43mrb\u001b[39;49m\u001b[38;5;124;43m\"\u001b[39;49m\u001b[43m)\u001b[49m)\n\u001b[1;32m    456\u001b[0m     own_fid \u001b[38;5;241m=\u001b[39m \u001b[38;5;28;01mTrue\u001b[39;00m\n\u001b[1;32m    458\u001b[0m \u001b[38;5;66;03m# Code to distinguish from NumPy binary files and pickles.\u001b[39;00m\n",
      "\u001b[0;31mFileNotFoundError\u001b[0m: [Errno 2] No such file or directory: 'cos_uniform_cut_data/cos_uniform_cut_0.npy'"
     ]
    }
   ],
   "source": [
    "params = np.load(\"cos_uniform_cut_data/cos_uniform_cut_0.npy\")[:, 0:3]\n",
    "lensed = np.load(\"cos_uniform_cut_data/cos_uniform_cut_0_output.npy\")[:, 2:5000, 0]\n",
    "unlensed = np.load(\"cos_uniform_cut_data/cos_uniform_cut_0_unlensed_output.npy\")[:, :, 0]\n",
    "\n",
    "real_lensing = lensed/unlensed"
   ]
  },
  {
   "cell_type": "code",
   "execution_count": 243,
   "id": "57c590ed",
   "metadata": {},
   "outputs": [
    {
     "name": "stdout",
     "output_type": "stream",
     "text": [
      "(2000, 4998)\n",
      "(2000, 3)\n"
     ]
    }
   ],
   "source": [
    "print(real_lensing.shape)\n",
    "print(params.shape)\n",
    "\n",
    "# params_0 = ombh2\n",
    "# params_1 = omch2\n"
   ]
  },
  {
   "cell_type": "code",
   "execution_count": 1,
   "id": "2ac38865",
   "metadata": {},
   "outputs": [],
   "source": [
    "def lensing_tail_fit(ell, ombh2, omch2):\n",
    "    \n",
    "    \"\"\"\n",
    "    Cl_lensed(ell) = lensing_tail_fit(ell; ombh2, omch2) * Cl_unlensed(ell)\n",
    "\n",
    "    The function lensing_tail_fit is given by: \n",
    "    \n",
    "        lensing_tail_fit(ell; ombh2, omch2) = 1 + [beta_1*(ell/beta_2)^alpha(ombh2, omch2) - 1] * [(1 + np.exp(-(ell - beta_3*2000)/100))^-1],\n",
    "        \n",
    "    where beta_1, beta_2, beta_3, and alpha(ombh2, omch2) were learned with PySR as:\n",
    "    \n",
    "        beta_1 = 0.83\n",
    "        beta_2 = 1400/0.4531\n",
    "        beta_3 = 1.62\n",
    "\n",
    "        alpha(ombh2, omch2) = (ombh2^-0.877) * (ombh2 + omch2) - 3.342*(ombh2 + omch2) - 1.118\n",
    "\n",
    "    Inputs:\n",
    "        ell:   Single value of ell or numpy array of ell values to be evaluated.\n",
    "        ombh2: Baryon Density Parameter for Cosmology of interest.\n",
    "        omch2: Dark Matter Density Parameter for Cosmology of interest.\n",
    "\n",
    "    Outputs: \n",
    "        L: Lensing tail for specified ell(s). Returns same type of object as input ell (single value or numpy array).\n",
    "    \n",
    "    \"\"\"\n",
    "    \n",
    "    beta_1 = 0.83\n",
    "    beta_2 = 3218\n",
    "    beta_3 = 3240\n",
    "    \n",
    "    # Sigmoid\n",
    "    sigm = (1 + np.exp(-(ell-beta_3)/100))**(-1)\n",
    "\n",
    "    # Exponent\n",
    "    alpha = (ombh2**-0.877) * (ombh2 + omch2) - 3.342*(ombh2 + omch2) - 1.118\n",
    "\n",
    "    # Polynomial\n",
    "    poly = ((beta_1*(ell/beta_2)**alpha - 1)*sigm) + 1\n",
    "\n",
    "    L = poly*sigm + 1\n",
    "    \n",
    "    return L, poly, sigm"
   ]
  },
  {
   "cell_type": "code",
   "execution_count": 2,
   "id": "7a45e77e",
   "metadata": {},
   "outputs": [
    {
     "ename": "NameError",
     "evalue": "name 'np' is not defined",
     "output_type": "error",
     "traceback": [
      "\u001b[0;31m---------------------------------------------------------------------------\u001b[0m",
      "\u001b[0;31mNameError\u001b[0m                                 Traceback (most recent call last)",
      "Cell \u001b[0;32mIn[2], line 1\u001b[0m\n\u001b[0;32m----> 1\u001b[0m ells \u001b[38;5;241m=\u001b[39m \u001b[43mnp\u001b[49m\u001b[38;5;241m.\u001b[39marray([i \u001b[38;5;28;01mfor\u001b[39;00m i \u001b[38;5;129;01min\u001b[39;00m \u001b[38;5;28mrange\u001b[39m(\u001b[38;5;241m2\u001b[39m, \u001b[38;5;241m5000\u001b[39m)])\n\u001b[1;32m      3\u001b[0m counter \u001b[38;5;241m=\u001b[39m \u001b[38;5;241m0\u001b[39m\n\u001b[1;32m      5\u001b[0m \u001b[38;5;28;01mfor\u001b[39;00m i \u001b[38;5;129;01min\u001b[39;00m \u001b[38;5;28mrange\u001b[39m(\u001b[38;5;241m0\u001b[39m, \u001b[38;5;241m2000\u001b[39m):\n",
      "\u001b[0;31mNameError\u001b[0m: name 'np' is not defined"
     ]
    }
   ],
   "source": [
    "ells = np.array([i for i in range(2, 5000)])\n",
    "\n",
    "counter = 0\n",
    "\n",
    "for i in range(0, 2000):\n",
    "\n",
    "    ombh2 = params[i, 0]\n",
    "    omch2 = params[i, 1]\n",
    "    H0 = params[i, 2]\n",
    "\n",
    "    # Only plot vals with params in this specific window\n",
    "\n",
    "    if ombh2 > 0.015 and ombh2 < 0.04 and omch2 > 0.03 and omch2 < 0.2 and H0 > 45 and H0 < 95:\n",
    "        if counter > 100:\n",
    "            continue\n",
    "        \n",
    "        true = real_lensing[i]\n",
    "    \n",
    "        fit, poly, sigm = lensing_tail_fit(ells, ombh2, omch2)\n",
    "    \n",
    "        #plt.semilogx(ells, 100*np.abs((fit - true)/true))\n",
    "        #plt.semilogx(ells, poly*sigm + 1)\n",
    "        plt.semilogx(ells, 100*np.abs((true - fit)/true))\n",
    "        \n",
    "        counter += 1\n",
    "\n",
    "\n",
    "plt.ylim(0, 100)\n",
    "plt.xlim(1000, 5000)\n"
   ]
  },
  {
   "cell_type": "code",
   "execution_count": null,
   "id": "5e7e04fc",
   "metadata": {},
   "outputs": [],
   "source": []
  },
  {
   "cell_type": "code",
   "execution_count": null,
   "id": "12dff494",
   "metadata": {},
   "outputs": [],
   "source": []
  },
  {
   "cell_type": "code",
   "execution_count": null,
   "id": "6f305039",
   "metadata": {},
   "outputs": [],
   "source": []
  }
 ],
 "metadata": {
  "kernelspec": {
   "display_name": "megan",
   "language": "python",
   "name": "megan"
  },
  "language_info": {
   "codemirror_mode": {
    "name": "ipython",
    "version": 3
   },
   "file_extension": ".py",
   "mimetype": "text/x-python",
   "name": "python",
   "nbconvert_exporter": "python",
   "pygments_lexer": "ipython3",
   "version": "3.9.19"
  }
 },
 "nbformat": 4,
 "nbformat_minor": 5
}
