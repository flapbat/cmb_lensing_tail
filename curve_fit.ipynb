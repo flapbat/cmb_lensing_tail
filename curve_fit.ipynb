{
 "cells": [
  {
   "cell_type": "code",
   "execution_count": 5,
   "id": "3b60eff0",
   "metadata": {},
   "outputs": [],
   "source": [
    "from pysr import PySRRegressor, TemplateExpressionSpec\n",
    "\n",
    "import matplotlib.pyplot as plt\n",
    "import numpy as np\n",
    "\n",
    "import camb\n",
    "\n",
    "from scipy.optimize import curve_fit"
   ]
  },
  {
   "cell_type": "code",
   "execution_count": 2,
   "id": "a173e141",
   "metadata": {},
   "outputs": [],
   "source": [
    "# Load Data\n",
    "pars     = np.load('CL_data/parameter_test9.npy')  # [H0, ombh2, omch2 ] x 100\n",
    "lensed   = np.load('CL_data/lensed_CL9.npy')     # [C_2, ..., C_5000] x 100 (lensed)\n",
    "unlensed = np.load('CL_data/unlensed_CL9.npy')     # [C_2, ..., C_5000] x 100 (unlensed)"
   ]
  },
  {
   "cell_type": "code",
   "execution_count": 158,
   "id": "e8c7a351",
   "metadata": {},
   "outputs": [],
   "source": [
    "ombs = pars[:,1]\n",
    "omcs = pars[:,2]\n",
    "\n",
    "ells = np.array([l for l in range(2, 5000)])"
   ]
  },
  {
   "cell_type": "code",
   "execution_count": 7,
   "id": "8dacc92b",
   "metadata": {},
   "outputs": [],
   "source": [
    "def get_lensing_camb(omb, omc):\n",
    "    pars = camb.set_params(H0 = 67.4, ombh2 = omb, omch2 = omc, lmax=5000)\n",
    "    results = camb.get_results(pars)\n",
    "    powers = results.get_cmb_power_spectra(pars, CMB_unit='muK')\n",
    "    lensed = powers['total'][2:5000, 0]\n",
    "    unlensed = powers['unlensed_total'][2:5000, 0]\n",
    "    return lensed/unlensed"
   ]
  },
  {
   "cell_type": "code",
   "execution_count": 10,
   "id": "d37e61ff",
   "metadata": {},
   "outputs": [],
   "source": [
    "def return_error(func):\n",
    "    return [100*np.abs(func(ells, pars_pysr[ind, 1], pars_pysr[ind, 2]) - lensed[ind]/unlensed[ind])/(lensed[ind]/unlensed[ind]) for ind in range(0, 100)]"
   ]
  },
  {
   "cell_type": "code",
   "execution_count": 9,
   "id": "5af6c06a",
   "metadata": {},
   "outputs": [],
   "source": [
    "fid_ombh2 = 0.0224\n",
    "fid_omch2 = 0.12"
   ]
  },
  {
   "cell_type": "code",
   "execution_count": 149,
   "id": "9faef75a",
   "metadata": {},
   "outputs": [],
   "source": [
    "def func(X, shift1, shift2):\n",
    "    ell = X[0]\n",
    "    ommh2 = X[1]\n",
    "    #ell, ommh2 = X\n",
    "    beta3 = 3776 * (1 + shift1 * ommh2/0.1424)\n",
    "    beta4 = 341 * (1 + shift2 * ommh2/0.1424)\n",
    "    alpha = (ommh2/0.1414)/0.4\n",
    "    sigma = (1 + np.exp(-(ell - beta3)/beta4))**-1\n",
    "    poly = (0.7 * (ell/2800)**alpha -1)\n",
    "    \n",
    "    return (poly*sigma + 1).flatten()"
   ]
  },
  {
   "cell_type": "code",
   "execution_count": 161,
   "id": "544a3663",
   "metadata": {},
   "outputs": [],
   "source": [
    "#ombs = [0.02, 0.022, 0.022, 0.022, 0.022, 0.022]\n",
    "#omcs = [0.1, 0.1, 0.12, 0.15, 0.18, 0.19]\n",
    "cosmos = [ombs[i] + omcs[i] for i in range(len(ombs))]\n",
    "n = len(cosmos) #number of cosmologies\n",
    "params = np.zeros((len(ells) * n, 2))\n",
    "for i in range(n):\n",
    "    params[(i)*len(ells):(i+1)*len(ells),0] = ells\n",
    "for i in range(n):\n",
    "    params[(i)*len(ells):(i+1)*len(ells),1] = cosmos[i]"
   ]
  },
  {
   "cell_type": "code",
   "execution_count": null,
   "id": "66842a4c",
   "metadata": {},
   "outputs": [],
   "source": [
    "camb_data = [get_lensing_camb(ombs[i], omcs[i]) for i in range(len(ombs))]"
   ]
  },
  {
   "cell_type": "code",
   "execution_count": null,
   "id": "9ad7c8e8",
   "metadata": {},
   "outputs": [],
   "source": [
    "camb_data_format = np.reshape(camb_data,(len(camb_data)*len(camb_data[0]), 1))\n",
    "camb_data_format = [camb_data_format[i][0] for i in range(len(camb_data_format))]"
   ]
  },
  {
   "cell_type": "code",
   "execution_count": 124,
   "id": "46d2eb78",
   "metadata": {},
   "outputs": [],
   "source": [
    "p0 = 0,0"
   ]
  },
  {
   "cell_type": "code",
   "execution_count": 126,
   "id": "a49554cc",
   "metadata": {},
   "outputs": [],
   "source": [
    "x1 = params[:,0]\n",
    "x2 = params[:,1]"
   ]
  },
  {
   "cell_type": "code",
   "execution_count": 154,
   "id": "db773610",
   "metadata": {},
   "outputs": [],
   "source": [
    "answers, _ = curve_fit(func,(x1, x2),camb_data_format, p0)"
   ]
  },
  {
   "cell_type": "code",
   "execution_count": 156,
   "id": "67fd5548",
   "metadata": {},
   "outputs": [
    {
     "data": {
      "text/plain": [
       "array([-0.08545276, -0.17394582])"
      ]
     },
     "execution_count": 156,
     "metadata": {},
     "output_type": "execute_result"
    }
   ],
   "source": [
    "answers"
   ]
  },
  {
   "cell_type": "code",
   "execution_count": null,
   "id": "8ff9449f",
   "metadata": {},
   "outputs": [],
   "source": []
  }
 ],
 "metadata": {
  "kernelspec": {
   "display_name": "megan",
   "language": "python",
   "name": "megan"
  },
  "language_info": {
   "codemirror_mode": {
    "name": "ipython",
    "version": 3
   },
   "file_extension": ".py",
   "mimetype": "text/x-python",
   "name": "python",
   "nbconvert_exporter": "python",
   "pygments_lexer": "ipython3",
   "version": "3.9.19"
  }
 },
 "nbformat": 4,
 "nbformat_minor": 5
}
