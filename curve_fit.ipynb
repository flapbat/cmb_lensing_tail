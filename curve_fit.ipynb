{
 "cells": [
  {
   "cell_type": "markdown",
   "id": "1db0cef6-d074-41f5-b843-e93e94f69103",
   "metadata": {},
   "source": [
    "#### this notebook is for using scipy curve\\_fit to tweak parameters in a known form"
   ]
  },
  {
   "cell_type": "code",
   "execution_count": 86,
   "id": "3b60eff0",
   "metadata": {},
   "outputs": [],
   "source": [
    "from pysr import PySRRegressor, TemplateExpressionSpec\n",
    "\n",
    "import matplotlib.pyplot as plt\n",
    "import numpy as np\n",
    "\n",
    "import camb\n",
    "\n",
    "from scipy.optimize import curve_fit"
   ]
  },
  {
   "cell_type": "code",
   "execution_count": 87,
   "id": "a173e141",
   "metadata": {},
   "outputs": [],
   "source": [
    "# Load Data\n",
    "pars     = np.load('CL_data/parameter_test9.npy')  # [H0, ombh2, omch2 ] x 100\n",
    "lensed   = np.load('CL_data/lensed_CL9.npy')     # [C_2, ..., C_5000] x 100 (lensed)\n",
    "unlensed = np.load('CL_data/unlensed_CL9.npy')     # [C_2, ..., C_5000] x 100 (unlensed)"
   ]
  },
  {
   "cell_type": "code",
   "execution_count": 88,
   "id": "e8c7a351",
   "metadata": {},
   "outputs": [],
   "source": [
    "#extracting info for independent variables\n",
    "ombs = pars[:,1]\n",
    "omcs = pars[:,2]\n",
    "\n",
    "ells = np.array([l for l in range(2, 5000)])"
   ]
  },
  {
   "cell_type": "code",
   "execution_count": 89,
   "id": "bca73323-d980-4553-91c3-ab46e53b1cc1",
   "metadata": {},
   "outputs": [],
   "source": [
    "#getting dependent variables\n",
    "lensing = lensed/unlensed #lensing tail\n",
    "camb_data_format = []\n",
    "for i in range(len(lensing)):\n",
    "    for j in range(len(lensing[i])):\n",
    "        camb_data_format.append(lensing[i][j])"
   ]
  },
  {
   "cell_type": "code",
   "execution_count": 92,
   "id": "5af6c06a",
   "metadata": {},
   "outputs": [],
   "source": [
    "#the fidicual values for normalizing variables\n",
    "fid_ombh2 = 0.0224\n",
    "fid_omch2 = 0.12"
   ]
  },
  {
   "cell_type": "code",
   "execution_count": 121,
   "id": "9faef75a",
   "metadata": {},
   "outputs": [],
   "source": [
    "def func(X, shift1, shift2):\n",
    "    #expected form of the lensing tail function for curve fitting\n",
    "    ell = X[0]\n",
    "    ommh2 = X[1]\n",
    "    beta3 = 3776 * np.exp((ommh2/0.1424) * shift1)\n",
    "    beta4 = 341 * np.exp((ommh2/0.1424) * shift2)\n",
    "    alpha = (ommh2/0.1414)/0.4  #keeping this fixed\n",
    "    sigma = (1 + np.exp(-(ell - beta3)/beta4))**-1\n",
    "    poly = (0.7 * (ell/2800)**alpha -1)\n",
    "    \n",
    "    return (poly*sigma + 1).flatten() "
   ]
  },
  {
   "cell_type": "code",
   "execution_count": 122,
   "id": "544a3663",
   "metadata": {},
   "outputs": [],
   "source": [
    "cosmos = [ombs[i] + omcs[i] for i in range(len(ombs))]    #x3 variable\n",
    "n = len(cosmos) #number of cosmologies\n",
    "params = np.zeros((len(ells) * n, 2))   #ind variables\n",
    "for i in range(n):\n",
    "    params[(i)*len(ells):(i+1)*len(ells),0] = ells\n",
    "for i in range(n):\n",
    "    params[(i)*len(ells):(i+1)*len(ells),1] = cosmos[i]  #ommh2"
   ]
  },
  {
   "cell_type": "code",
   "execution_count": 123,
   "id": "46d2eb78",
   "metadata": {},
   "outputs": [],
   "source": [
    "p0 = 0,0 #initial values"
   ]
  },
  {
   "cell_type": "code",
   "execution_count": 124,
   "id": "a49554cc",
   "metadata": {},
   "outputs": [],
   "source": [
    "x1 = params[:,0]\n",
    "x2 = params[:,1]"
   ]
  },
  {
   "cell_type": "code",
   "execution_count": 126,
   "id": "db773610",
   "metadata": {},
   "outputs": [],
   "source": [
    "answers, _ = curve_fit(func,(x1, x2),camb_data_format, p0)  #doing the curve fitting"
   ]
  },
  {
   "cell_type": "code",
   "execution_count": 127,
   "id": "67fd5548",
   "metadata": {},
   "outputs": [
    {
     "data": {
      "text/plain": [
       "array([-0.01296149,  0.3473414 ])"
      ]
     },
     "execution_count": 127,
     "metadata": {},
     "output_type": "execute_result"
    }
   ],
   "source": [
    "answers"
   ]
  },
  {
   "cell_type": "code",
   "execution_count": null,
   "id": "8ff9449f",
   "metadata": {},
   "outputs": [],
   "source": []
  },
  {
   "cell_type": "code",
   "execution_count": null,
   "id": "7318135c-4889-4d65-8c12-d0b24401c142",
   "metadata": {},
   "outputs": [],
   "source": []
  }
 ],
 "metadata": {
  "kernelspec": {
   "display_name": "Python 3 (ipykernel)",
   "language": "python",
   "name": "python3"
  },
  "language_info": {
   "codemirror_mode": {
    "name": "ipython",
    "version": 3
   },
   "file_extension": ".py",
   "mimetype": "text/x-python",
   "name": "python",
   "nbconvert_exporter": "python",
   "pygments_lexer": "ipython3",
   "version": "3.12.7"
  }
 },
 "nbformat": 4,
 "nbformat_minor": 5
}
